{
  "nbformat": 4,
  "nbformat_minor": 0,
  "metadata": {
    "colab": {
      "provenance": []
    },
    "kernelspec": {
      "name": "python3",
      "display_name": "Python 3"
    },
    "language_info": {
      "name": "python"
    }
  },
  "cells": [
    {
      "cell_type": "code",
      "execution_count": 80,
      "metadata": {
        "id": "ehZkNmaa0GJm"
      },
      "outputs": [],
      "source": [
        "import pandas as pd\n",
        "from itertools import combinations"
      ]
    },
    {
      "cell_type": "code",
      "source": [
        "def load_dataset():\n",
        "  df = pd.read_csv('Groceries_dataset.csv')\n",
        "  return df.groupby('Member_number')['itemDescription'].apply(list).tolist()"
      ],
      "metadata": {
        "id": "RF1QyvuG0JVY"
      },
      "execution_count": 81,
      "outputs": []
    },
    {
      "cell_type": "code",
      "source": [
        "def Support(dataset, itemset):\n",
        "  return sum(1 for transaction in dataset if set(itemset).issubset(set(transaction))) / len(dataset)"
      ],
      "metadata": {
        "id": "cNRAYKSm0JeF"
      },
      "execution_count": 82,
      "outputs": []
    },
    {
      "cell_type": "code",
      "source": [
        "def generate_candidates(itemset, size):\n",
        "  return [frozenset(set(item1).union(item2)) for item1 in itemset for item2 in itemset if len(set(item1).union(item2)) == size]"
      ],
      "metadata": {
        "id": "PAgk3hSD0Jk8"
      },
      "execution_count": 83,
      "outputs": []
    },
    {
      "cell_type": "code",
      "source": [
        "def apriori_algorithm(dataset, min_support):\n",
        "  k = 2\n",
        "  unique_items = set(item for transaction in dataset for item in transaction)\n",
        "  frequent_itemsets = []\n",
        "  candidates = [frozenset({item}) for item in unique_items]\n",
        "  frequent_itemsets.extend(itemset for itemset in candidates if Support(dataset, itemset) >= min_support)\n",
        "\n",
        "  while candidates:\n",
        "    candidates = generate_candidates(set(frequent_itemsets), k)\n",
        "    frequent_itemsets.extend(itemset for itemset in candidates if Support(dataset, itemset) >= min_support)\n",
        "    k += 1\n",
        "\n",
        "  return frequent_itemsets"
      ],
      "metadata": {
        "id": "MuSNVKRt0JzW"
      },
      "execution_count": 84,
      "outputs": []
    },
    {
      "cell_type": "code",
      "source": [
        "def Association_rules(frequent_itemsets, min_confidence, dataset):\n",
        "  rules = []\n",
        "  for itemset in frequent_itemsets:\n",
        "    for i in range(1, len(itemset)):\n",
        "      for left_hand_side in combinations(itemset, i):\n",
        "        left_hand_side = frozenset(left_hand_side)\n",
        "        right_hand_side = itemset - left_hand_side\n",
        "        rule = (left_hand_side, right_hand_side)\n",
        "\n",
        "        confidence = Support(dataset, itemset) / Support(dataset, left_hand_side)\n",
        "\n",
        "        if confidence >= min_confidence:\n",
        "          rules.append({'Left-hand side': left_hand_side, 'Right-hand side': right_hand_side, 'Support': Support(dataset, itemset), 'Confidence': confidence, 'Lift': confidence / Support(dataset, right_hand_side),})\n",
        "\n",
        "  return rules"
      ],
      "metadata": {
        "id": "ld4H1oRy1SNc"
      },
      "execution_count": 85,
      "outputs": []
    },
    {
      "cell_type": "code",
      "source": [
        "def main():\n",
        "  dataset = load_dataset() #Loading the dataset\n",
        "  min_support = 0.12 #Mining frequent itemsets with min_support threshold of 0.12\n",
        "  frequent_itemsets = apriori_algorithm(dataset, min_support)\n",
        "  min_confidence = 0.1 #Generating association rules with min_confidence threshold of 0.1\n",
        "  association_rules = Association_rules(frequent_itemsets, min_confidence, dataset)\n",
        "\n",
        "  df_rules = pd.DataFrame(association_rules)\n",
        "\n",
        "  print(\"Frequent Itemsets:\")\n",
        "  print(frequent_itemsets)\n",
        "\n",
        "  print(\"Association Rules:\")\n",
        "  print(df_rules)\n",
        "\n",
        "if __name__ == \"__main__\":\n",
        "    main()"
      ],
      "metadata": {
        "colab": {
          "base_uri": "https://localhost:8080/"
        },
        "id": "0ugGLOrs1SVc",
        "outputId": "3433c44e-d466-4213-c319-7e4629265ef4"
      },
      "execution_count": 86,
      "outputs": [
        {
          "output_type": "stream",
          "name": "stdout",
          "text": [
            "Frequent Itemsets:\n",
            "[frozenset({'fruit/vegetable juice'}), frozenset({'pork'}), frozenset({'root vegetables'}), frozenset({'pip fruit'}), frozenset({'newspapers'}), frozenset({'frankfurter'}), frozenset({'sausage'}), frozenset({'bottled beer'}), frozenset({'tropical fruit'}), frozenset({'yogurt'}), frozenset({'whole milk'}), frozenset({'bottled water'}), frozenset({'domestic eggs'}), frozenset({'whipped/sour cream'}), frozenset({'pastry'}), frozenset({'citrus fruit'}), frozenset({'canned beer'}), frozenset({'shopping bags'}), frozenset({'other vegetables'}), frozenset({'curd'}), frozenset({'soda'}), frozenset({'rolls/buns'}), frozenset({'brown bread'}), frozenset({'butter'}), frozenset({'rolls/buns', 'whole milk'}), frozenset({'rolls/buns', 'other vegetables'}), frozenset({'whole milk', 'rolls/buns'}), frozenset({'whole milk', 'soda'}), frozenset({'whole milk', 'yogurt'}), frozenset({'whole milk', 'other vegetables'}), frozenset({'whole milk', 'soda'}), frozenset({'other vegetables', 'soda'}), frozenset({'whole milk', 'yogurt'}), frozenset({'other vegetables', 'yogurt'}), frozenset({'other vegetables', 'rolls/buns'}), frozenset({'other vegetables', 'whole milk'}), frozenset({'other vegetables', 'soda'}), frozenset({'other vegetables', 'yogurt'})]\n",
            "Association Rules:\n",
            "        Left-hand side     Right-hand side   Support  Confidence      Lift\n",
            "0         (rolls/buns)        (whole milk)  0.178553    0.510638  1.114484\n",
            "1         (whole milk)        (rolls/buns)  0.178553    0.389698  1.114484\n",
            "2         (rolls/buns)  (other vegetables)  0.146742    0.419663  1.114335\n",
            "3   (other vegetables)        (rolls/buns)  0.146742    0.389646  1.114335\n",
            "4         (whole milk)        (rolls/buns)  0.178553    0.389698  1.114484\n",
            "5         (rolls/buns)        (whole milk)  0.178553    0.510638  1.114484\n",
            "6         (whole milk)              (soda)  0.151103    0.329787  1.051973\n",
            "7               (soda)        (whole milk)  0.151103    0.481997  1.051973\n",
            "8         (whole milk)            (yogurt)  0.150590    0.328667  1.161510\n",
            "9             (yogurt)        (whole milk)  0.150590    0.532185  1.161510\n",
            "10        (whole milk)  (other vegetables)  0.191380    0.417693  1.109106\n",
            "11  (other vegetables)        (whole milk)  0.191380    0.508174  1.109106\n",
            "12        (whole milk)              (soda)  0.151103    0.329787  1.051973\n",
            "13              (soda)        (whole milk)  0.151103    0.481997  1.051973\n",
            "14  (other vegetables)              (soda)  0.124166    0.329700  1.051695\n",
            "15              (soda)  (other vegetables)  0.124166    0.396072  1.051695\n",
            "16        (whole milk)            (yogurt)  0.150590    0.328667  1.161510\n",
            "17            (yogurt)        (whole milk)  0.150590    0.532185  1.161510\n",
            "18  (other vegetables)            (yogurt)  0.120318    0.319482  1.129050\n",
            "19            (yogurt)  (other vegetables)  0.120318    0.425204  1.129050\n",
            "20  (other vegetables)        (rolls/buns)  0.146742    0.389646  1.114335\n",
            "21        (rolls/buns)  (other vegetables)  0.146742    0.419663  1.114335\n",
            "22  (other vegetables)        (whole milk)  0.191380    0.508174  1.109106\n",
            "23        (whole milk)  (other vegetables)  0.191380    0.417693  1.109106\n",
            "24  (other vegetables)              (soda)  0.124166    0.329700  1.051695\n",
            "25              (soda)  (other vegetables)  0.124166    0.396072  1.051695\n",
            "26  (other vegetables)            (yogurt)  0.120318    0.319482  1.129050\n",
            "27            (yogurt)  (other vegetables)  0.120318    0.425204  1.129050\n"
          ]
        }
      ]
    },
    {
      "cell_type": "markdown",
      "source": [
        "**Support** - The support of an item x is the ratio of the number of transactions in which the item x is present with respect to the total number of transactions. Support = Transactions containing x / Total transactions\n",
        "Higher support means that the itemset is frequently occurring, making it a candidate for a \"frequent\" itemset.\n",
        "\n",
        "**Confidence** - Confidence is the reliability of an association rule. It is calculated as follows: Support(lhs Union rhs) / Support(lhs).\n",
        "Higher the confidence means that there is a strong relationship between the lhs and the rhs.\n",
        "\n",
        "**Lift** - Lift is the likelihood of the item y being purchased when item x is sold. It is the Confidence / Support(rhs).\n",
        "Lift values greater than 1 indicate that the rule has a positive impact, suggesting that the occurrence of the antecedent increases the likelihood of the consequent.\n",
        "\n",
        "These metrics help us discover associations between items frequently purchased together.\n",
        "Support identifies popular items or itemsets, while confidence helps in revealing reliable associations between items. Lift shows us whether the association is meaningful or just a random occurrence.\n",
        "\n",
        "For example,\n",
        "If rolls/buns -> whole milk has a support of 0.17(17%), it means that 17% of transactions include whole milk.\n",
        "If it has a confidence of 0.51(51%), 51% of transactions with rolls/buns also include whole milk.\n",
        "If it has a lift of 1.1, whole milk is 1.1 times more likely to be bought when rolls/buns are purchased.\n",
        "\n",
        "The Apriori algorithm, by using these metrics, helps businesses uncover patterns and relationships within transactional data. These patterns are then translated into actionable insights for improving various aspects of business operations, such as product placement, marketing strategies, and customer experience."
      ],
      "metadata": {
        "id": "MIZuHijyAcjT"
      }
    }
  ]
}