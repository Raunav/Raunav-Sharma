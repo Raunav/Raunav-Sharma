{
  "nbformat": 4,
  "nbformat_minor": 0,
  "metadata": {
    "colab": {
      "provenance": []
    },
    "kernelspec": {
      "name": "python3",
      "display_name": "Python 3"
    },
    "language_info": {
      "name": "python"
    }
  },
  "cells": [
    {
      "cell_type": "code",
      "source": [
        "input_file = \"/content/fradulent_emails.txt\"\n",
        "with open(input_file, 'r', encoding='utf-8', errors='ignore') as file:\n",
        "  item = file.readlines()\n",
        "\n",
        "## reading the file"
      ],
      "metadata": {
        "id": "DncXIryvKdiQ"
      },
      "execution_count": 38,
      "outputs": []
    },
    {
      "cell_type": "code",
      "source": [
        "import os\n",
        "import sys\n",
        "\n",
        "\n",
        "#Map Task\n",
        "def map_function(item):\n",
        "  for line in item:\n",
        "    words = line.split()\n",
        "    for word in words:\n",
        "      word = word.strip('.,?!;()[]{}\"\\'')\n",
        "      if word:\n",
        "        yield word, 1\n",
        "\n",
        "\n",
        "#Reduce Task\n",
        "def reduce_function(item_count):\n",
        "    current_word = None\n",
        "    word_count = 0\n",
        "    for word, count in item_count:\n",
        "        if current_word is None:\n",
        "            current_word = word\n",
        "        if word == current_word:\n",
        "            word_count += count\n",
        "        else:\n",
        "            yield current_word, word_count\n",
        "            current_word = word\n",
        "            word_count = count\n",
        "    if current_word is not None:\n",
        "        yield current_word, word_count\n",
        "\n",
        "## this code snippet shows the map and reduce functions. The map function takes an iterable number of items as the input, splits it into words, cleans it,\n",
        "## and if it is not empty, it yields a key-value pair using the yield statement.\n",
        "## The reduce function takes the map function's data as the input - the key value pairs, iterates through the sorted mapped data and for each specific pair,\n",
        "## it checks whether 'current_word' is the same as the previous word. If it is, it increments the 'word_count'. As a new word pops up, it gives us the 'current_word' and its 'word_count'.\n",
        "## The goal of this is to give us the final word and its count."
      ],
      "metadata": {
        "id": "xaSyoYmy-Uzg"
      },
      "execution_count": 39,
      "outputs": []
    },
    {
      "cell_type": "code",
      "source": [
        "item_count = map_function(item)\n",
        "sorted_data = sorted(item_count)\n",
        "reducer_output = reduce_function(sorted_data)\n",
        "\n",
        "## this executes both the map and reduce functions - map function gives us key value pairs showing us the word count and is then sorted.\n",
        "## the reducer output is the reduce function on the sorted data we just got."
      ],
      "metadata": {
        "id": "5CpMg4gLKxQy"
      },
      "execution_count": 40,
      "outputs": []
    },
    {
      "cell_type": "code",
      "source": [
        "result = list(reducer_output)\n",
        "top_20_words = sorted(result, key=lambda x: x[1], reverse=True)[:20]\n",
        "\n",
        "print(\"Top 20 Most Frequent Words:\")\n",
        "for word, count in top_20_words:\n",
        "  print(f\"{word}: {count}\")\n",
        "\n",
        "## we get a list from the reducer_output which is then sorted in descending order, ie, most frequent word by count."
      ],
      "metadata": {
        "colab": {
          "base_uri": "https://localhost:8080/"
        },
        "id": "RDH2pItLKxdh",
        "outputId": "e8e76b41-1316-4d7d-ff75-48abc24f78b7"
      },
      "execution_count": 41,
      "outputs": [
        {
          "output_type": "stream",
          "name": "stdout",
          "text": [
            "Top 20 Most Frequent Words:\n",
            "the: 73745\n",
            "to: 61394\n",
            "of: 53047\n",
            "and: 41048\n",
            "I: 38899\n",
            "in: 33604\n",
            "you: 32096\n",
            "this: 26865\n",
            "a: 25238\n",
            "for: 23232\n",
            "your: 22448\n",
            "my: 21639\n",
            "that: 19208\n",
            "will: 18868\n",
            "as: 17563\n",
            "is: 16489\n",
            "be: 14230\n",
            "with: 13922\n",
            "me: 13277\n",
            "have: 11002\n"
          ]
        }
      ]
    }
  ]
}