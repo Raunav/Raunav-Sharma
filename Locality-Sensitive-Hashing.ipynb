{
  "nbformat": 4,
  "nbformat_minor": 0,
  "metadata": {
    "colab": {
      "provenance": []
    },
    "kernelspec": {
      "name": "python3",
      "display_name": "Python 3"
    },
    "language_info": {
      "name": "python"
    }
  },
  "cells": [
    {
      "cell_type": "code",
      "source": [
        "pip install datasketch"
      ],
      "metadata": {
        "colab": {
          "base_uri": "https://localhost:8080/"
        },
        "id": "QzFDmZ45ZAeF",
        "outputId": "b9a4ce30-7709-4f30-9242-8ad0df7c9872"
      },
      "execution_count": 5,
      "outputs": [
        {
          "output_type": "stream",
          "name": "stdout",
          "text": [
            "Collecting datasketch\n",
            "  Downloading datasketch-1.6.4-py3-none-any.whl (88 kB)\n",
            "\u001b[?25l     \u001b[90m━━━━━━━━━━━━━━━━━━━━━━━━━━━━━━━━━━━━━━━━\u001b[0m \u001b[32m0.0/88.3 kB\u001b[0m \u001b[31m?\u001b[0m eta \u001b[36m-:--:--\u001b[0m\r\u001b[2K     \u001b[90m━━━━━━━━━━━━━━━━━━━━━━━━━━━━━━━━━━━━━━━━\u001b[0m \u001b[32m88.3/88.3 kB\u001b[0m \u001b[31m2.7 MB/s\u001b[0m eta \u001b[36m0:00:00\u001b[0m\n",
            "\u001b[?25hRequirement already satisfied: numpy>=1.11 in /usr/local/lib/python3.10/dist-packages (from datasketch) (1.23.5)\n",
            "Requirement already satisfied: scipy>=1.0.0 in /usr/local/lib/python3.10/dist-packages (from datasketch) (1.11.3)\n",
            "Installing collected packages: datasketch\n",
            "Successfully installed datasketch-1.6.4\n"
          ]
        }
      ]
    },
    {
      "cell_type": "code",
      "execution_count": 6,
      "metadata": {
        "id": "sJ64BVX8Ywuk"
      },
      "outputs": [],
      "source": [
        "import numpy as np\n",
        "from datasketch import MinHash, MinHashLSH\n",
        "from itertools import combinations"
      ]
    },
    {
      "cell_type": "code",
      "source": [
        "k = 10  # shingle size\n",
        "perms = 100   # number of permutations\n",
        "bands = 15\n",
        "rows = perms//bands\n",
        "threshold = 0.9  # Jaccard similarity threshold"
      ],
      "metadata": {
        "id": "iem_k214ZF6H"
      },
      "execution_count": 17,
      "outputs": []
    },
    {
      "cell_type": "code",
      "source": [
        "lsh = MinHashLSH(threshold=threshold, num_perm=perms, params=(bands, rows))\n",
        "\n",
        "def create_shingles(text, k):\n",
        "    tokens = text.split()\n",
        "    shingles = set()\n",
        "    for i in range(len(tokens) - k + 1):\n",
        "        shingle = \" \".join(tokens[i:i + k])\n",
        "        shingles.add(shingle)\n",
        "    return shingles\n",
        "\n",
        "def jaccard_similarity(minhash1, minhash2):\n",
        "    return minhash1.jaccard(minhash2)"
      ],
      "metadata": {
        "id": "HSzico7NZGMK"
      },
      "execution_count": 19,
      "outputs": []
    },
    {
      "cell_type": "code",
      "source": [
        "paragraph = {}\n",
        "current_paragraph = \"\""
      ],
      "metadata": {
        "id": "C3VOLddfZGcO"
      },
      "execution_count": 20,
      "outputs": []
    },
    {
      "cell_type": "code",
      "source": [
        "with open('/content/similarity', 'r', encoding='utf-8') as file:\n",
        "    for i in file:\n",
        "        if i.strip():\n",
        "            current_paragraph += i\n",
        "        else:\n",
        "            text = current_paragraph.strip()\n",
        "            shingles = create_shingles(text, k)\n",
        "            minhash = MinHash(num_perm = perms)\n",
        "            for shingle in shingles:\n",
        "                minhash.update(shingle.encode('utf-8'))\n",
        "            doc_id = len(paragraph)\n",
        "            lsh.insert(doc_id, minhash)\n",
        "            paragraph[doc_id] = minhash\n",
        "            current_paragraph = \"\"\n",
        "\n"
      ],
      "metadata": {
        "id": "K3ojqcrBZGji"
      },
      "execution_count": 21,
      "outputs": []
    },
    {
      "cell_type": "code",
      "source": [
        "cp = [] #candidate pairs\n",
        "for i, bucket in enumerate(lsh.hashtables):\n",
        "    for key in bucket.keys():\n",
        "        doc_ids = list(bucket.get(key))\n",
        "        if len(doc_ids) > 1:\n",
        "            cp.extend(combinations(doc_ids, 2))\n",
        "\n",
        "cp = list(set(cp))\n"
      ],
      "metadata": {
        "id": "P4mOVS-HZIJb"
      },
      "execution_count": 22,
      "outputs": []
    },
    {
      "cell_type": "code",
      "source": [
        "sp = [] #similar pairs\n",
        "for x in cp:\n",
        "    i, j = x #pairs\n",
        "    similarity = jaccard_similarity(paragraph[i], paragraph[j])\n",
        "    if similarity >= threshold:\n",
        "        sp.append((i, j, similarity))"
      ],
      "metadata": {
        "id": "RyY9iYW5ZIUp"
      },
      "execution_count": 23,
      "outputs": []
    },
    {
      "cell_type": "code",
      "source": [
        "sp.sort(key=lambda x: x[2], reverse=True)\n",
        "most_similar_pairs = sp[:5]\n",
        "for x in most_similar_pairs:\n",
        "    doc1, doc2, similarity = x\n",
        "    print(f\"Paras {doc1} and Paras {doc2} have a Jaccard Similarity of: {similarity:.2f}\")"
      ],
      "metadata": {
        "colab": {
          "base_uri": "https://localhost:8080/"
        },
        "id": "7nIzPjyiZIfQ",
        "outputId": "72d4c9b0-da84-46ed-9c49-2931f1fc85ec"
      },
      "execution_count": 27,
      "outputs": [
        {
          "output_type": "stream",
          "name": "stdout",
          "text": [
            "Paras 300 and Paras 270 have a Jaccard Similarity of: 1.00\n",
            "Paras 298 and Paras 309 have a Jaccard Similarity of: 1.00\n",
            "Paras 266 and Paras 286 have a Jaccard Similarity of: 1.00\n",
            "Paras 164 and Paras 229 have a Jaccard Similarity of: 1.00\n",
            "Paras 287 and Paras 318 have a Jaccard Similarity of: 1.00\n"
          ]
        }
      ]
    },
    {
      "cell_type": "code",
      "source": [
        "### This is how I checked the paragraphs - whether they actually matched or not\n",
        "\n",
        "paragraphs = []\n",
        "\n",
        "with open('/content/similarity', 'r', encoding='utf-8') as file:\n",
        "    current_paragraph = \"\"\n",
        "    for line in file:\n",
        "        if line.strip():\n",
        "            current_paragraph += line\n",
        "        else:\n",
        "            paragraphs.append(current_paragraph)\n",
        "            current_paragraph = \"\"\n",
        "\n",
        "if current_paragraph:\n",
        "    paragraphs.append(current_paragraph)\n",
        "\n",
        "para_300_content = paragraphs[300]\n",
        "para_270_content = paragraphs[270]\n",
        "\n",
        "print(f\"Paragraph 300 content:\\n{para_300_content}\")\n",
        "print(f\"Paragraph 270 content:\\n{para_270_content}\")"
      ],
      "metadata": {
        "colab": {
          "base_uri": "https://localhost:8080/"
        },
        "id": "MlnDzNnIZInV",
        "outputId": "5e06a023-5827-4bda-b2ef-1d420f5e3d50"
      },
      "execution_count": 32,
      "outputs": [
        {
          "output_type": "stream",
          "name": "stdout",
          "text": [
            "Paragraph 300 content:\n",
            "    In the heart of a bustling city, a master chef toiled in a renowned restaurant's kitchen, orchestrating a culinary symphony that delighted the senses. Ingredients from the world over danced on the stove, and the clatter of pots and pans merged with the aroma of spices and herbs. Each dish was a canvas, a masterpiece of flavor and presentation that would leave diners with unforgettable memories of a gastronomic journey. The restaurant's dining room buzzed with anticipation, a place where food transcended sustenance and became a work of art.\n",
            "\n",
            "Paragraph 270 content:\n",
            "    In the heart of a bustling city, a master chef toiled in a renowned restaurant's kitchen, orchestrating a culinary symphony that delighted the senses. Ingredients from the world over danced on the stove, and the clatter of pots and pans merged with the aroma of spices and herbs. Each dish was a canvas, a masterpiece of flavor and presentation that would leave diners with unforgettable memories of a gastronomic journey. The restaurant's dining room buzzed with anticipation, a place where food transcended sustenance and became a work of art.\n",
            "\n"
          ]
        }
      ]
    },
    {
      "cell_type": "markdown",
      "source": [
        "Question 1: I represented my textual data by creating 'k' shingles from the lines of each paragraph. I used a shingle size of 10, meaning that each shingle represents a sequence of 10 consecutive words from the text. I chose a shingle size of 10 so that I could capture longer sequences of words and phrases in the text. Larger shingle sizes help in identifying similarities that might span multiple sentences or concepts within a paragraph. I found that there were many paras with jaccard similarity equal to 1 when I kept the shingle size low. Hence I took a larger value."
      ],
      "metadata": {
        "id": "V33j8saBV3-1"
      }
    },
    {
      "cell_type": "markdown",
      "source": [
        "Question 2:  If you naively try to compare\n",
        "the signature matrices to determine the similar documents, it becomes very time consuming and expensive - especially when we have a huge dataset like this. There will also be many false positives because there isn't any technique to reduce these false positives.\n",
        "The banding technique deivides the signature matrix into bands and applies hash functions to each band. Thus, at the end of it, it reduces the number of document pairs to be compared.\n",
        "The bands techiniqe and LSH make it easier by reducing the computational complexity, improving accuracy and at the same time be able to deal with llater ge datasets like the one we have worked with."
      ],
      "metadata": {
        "id": "R0Ht9I8eXhxy"
      }
    },
    {
      "cell_type": "markdown",
      "source": [
        "Question 3: The documents/paras I found to be identical are:\n",
        "\n",
        "**paras 300 and 270** - In the heart of a bustling city, a master chef toiled in a renowned restaurant's kitchen, orchestrating a culinary symphony that delighted the senses. Ingredients from the world over danced on the stove, and the clatter of pots and pans merged with the aroma of spices and herbs. Each dish was a canvas, a masterpiece of flavor and presentation that would leave diners with unforgettable memories of a gastronomic journey. The restaurant's dining room buzzed with anticipation, a place where food transcended sustenance and became a work of art.\n",
        "\n",
        "**Paras 298 and Paras 309** -     In the heart of a bustling city, a hidden courtyard garden offered a tranquil refuge from the urban chaos. Ancient stone pathways led to lush flowerbeds, where vibrant blooms flourished in terra cotta pots. The garden was a testament to human ingenuity and the resilience of nature, where greenery thrived amidst the concrete and steel. Here, amidst the beauty of the courtyard, the relentless pace of the city seemed to pause, and visitors found solace in the embrace of nature's splendor.\n",
        "\n",
        "\n",
        "**Paras 266 and Paras 286** -     On the precipice of twilight, a coastal town's harbor became a symphony of activity, as fishermen hauled in their day's catch, their boats returning with brimming nets. Gulls circled overhead, their calls mingling with the sound of seagulls clanging against masts. As the sun dipped below the horizon, the harbor transformed into a painting of tranquil beauty, a reflection of a community deeply intertwined with the ebb and flow of the ocean.\n",
        "\n",
        "\n",
        "**Paras 164 and Paras 229** -     In a picturesque coastal village, a centuries-old windmill stood sentinel, its massive sails turning gracefully in the breeze. The windmill's stones had ground grains into flour for generations, providing sustenance to the community. Around it, narrow cobblestone streets wound through a tapestry of charming cottages, their flower-filled gardens a riot of color. The village was a living postcard, a place where history and beauty merged, and where the windmill's enduring presence seemed to transcend time itself.\n",
        "\n",
        "\n",
        "**Paras 287 and Paras 318** -     A small, sunlit pottery studio was a haven for creativity, where the potter molded clay into intricate shapes, guided by a lifelong passion for the craft. Shelves were adorned with works of art, from delicate teacups to massive sculptures, each one bearing the potter's unique signature. In the studio, the rhythm of creation was a dance of imagination and technique, a testament to the timeless marriage of human skill and the transformative nature of clay.\n",
        "\n",
        "These gave me a jaccard similarity of 1. And seeing them, they are indeed identical.\n",
        "\n",
        "\n"
      ],
      "metadata": {
        "id": "g69pbrhMaPrm"
      }
    }
  ]
}